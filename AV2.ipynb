{
 "cells": [
  {
   "cell_type": "markdown",
   "metadata": {},
   "source": [
    "1- Crie um programa que imprima de maneira automatizada o que está abaixo. Note que se espera que isso seja feito com um laço de repetição e não digitação linha por linha em seu código. Dica: use \"string\"\n",
    "\n",
    "F\n",
    "\n",
    "Fi\n",
    "\n",
    "Fis\n",
    "\n",
    "Fisi\n",
    "\n",
    "Fisic\n",
    "\n",
    "Fisica\n",
    "\n",
    "Fisic\n",
    "\n",
    "Fisi\n",
    "\n",
    "Fis\n",
    "\n",
    "Fi\n",
    "\n",
    "F\n",
    "\n"
   ]
  },
  {
   "cell_type": "code",
   "execution_count": 21,
   "metadata": {},
   "outputs": [
    {
     "name": "stdout",
     "output_type": "stream",
     "text": [
      "F\n",
      "Fi\n",
      "Fis\n",
      "Fisi\n",
      "Fisic\n",
      "Fisica\n",
      "Fisic\n",
      "Fisi\n",
      "Fis\n",
      "Fi\n",
      "F\n"
     ]
    }
   ],
   "source": [
    "\n",
    "string = \"Fisica\"\n",
    "\n",
    "for i in range(1, len(string) + 1):\n",
    "    print(string[:i])\n",
    "\n",
    "for i in range(len(string) - 1, 0, -1):\n",
    "    print(string[:i])"
   ]
  },
  {
   "cell_type": "markdown",
   "metadata": {},
   "source": [
    "2- Escreva um programa que calcule e escreva os 300 primeiros números primos.\n",
    "\n"
   ]
  },
  {
   "cell_type": "code",
   "execution_count": null,
   "metadata": {},
   "outputs": [
    {
     "name": "stdout",
     "output_type": "stream",
     "text": [
      "[1, 2, 3, 5, 7, 11, 13, 17, 19, 23, 29, 31, 37, 41, 43, 47, 53, 59, 61, 67, 71, 73, 79, 83, 89, 97, 101, 103, 107, 109, 113, 127, 131, 137, 139, 149, 151, 157, 163, 167, 173, 179, 181, 191, 193, 197, 199, 211, 223, 227, 229, 233, 239, 241, 251, 257, 263, 269, 271, 277, 281, 283, 293, 307, 311, 313, 317, 331, 337, 347, 349, 353, 359, 367, 373, 379, 383, 389, 397, 401, 409, 419, 421, 431, 433, 439, 443, 449, 457, 461, 463, 467, 479, 487, 491, 499, 503, 509, 521, 523, 541, 547, 557, 563, 569, 571, 577, 587, 593, 599, 601, 607, 613, 617, 619, 631, 641, 643, 647, 653, 659, 661, 673, 677, 683, 691, 701, 709, 719, 727, 733, 739, 743, 751, 757, 761, 769, 773, 787, 797, 809, 811, 821, 823, 827, 829, 839, 853, 857, 859, 863, 877, 881, 883, 887, 907, 911, 919, 929, 937, 941, 947, 953, 967, 971, 977, 983, 991, 997, 1009, 1013, 1019, 1021, 1031, 1033, 1039, 1049, 1051, 1061, 1063, 1069, 1087, 1091, 1093, 1097, 1103, 1109, 1117, 1123, 1129, 1151, 1153, 1163, 1171, 1181, 1187, 1193, 1201, 1213, 1217, 1223, 1229, 1231, 1237, 1249, 1259, 1277, 1279, 1283, 1289, 1291, 1297, 1301, 1303, 1307, 1319, 1321, 1327, 1361, 1367, 1373, 1381, 1399, 1409, 1423, 1427, 1429, 1433, 1439, 1447, 1451, 1453, 1459, 1471, 1481, 1483, 1487, 1489, 1493, 1499, 1511, 1523, 1531, 1543, 1549, 1553, 1559, 1567, 1571, 1579, 1583, 1597, 1601, 1607, 1609, 1613, 1619, 1621, 1627, 1637, 1657, 1663, 1667, 1669, 1693, 1697, 1699, 1709, 1721, 1723, 1733, 1741, 1747, 1753, 1759, 1777, 1783, 1787, 1789, 1801, 1811, 1823, 1831, 1847, 1861, 1867, 1871, 1873, 1877, 1879, 1889, 1901, 1907, 1913, 1931, 1933, 1949, 1951, 1973, 1979]\n"
     ]
    }
   ],
   "source": [
    "numerosPrimos = []\n",
    "numeroAtual = 2\n",
    "\n",
    "while len(numerosPrimos) < 300:\n",
    "    primo = True\n",
    "    for i in range(2, numeroAtual):\n",
    "        if numeroAtual % i == 0:\n",
    "            primo = False\n",
    "            break\n",
    "    if primo:\n",
    "        numerosPrimos.append(numeroAtual)\n",
    "    numeroAtual += 1\n",
    "\n",
    "print(numerosPrimos)"
   ]
  },
  {
   "cell_type": "markdown",
   "metadata": {},
   "source": [
    "3- Foi gerado um programa usando ChatGPT, que describe o movimentos dos 5 primeros planetas.\n",
    "\n",
    "https://moodle.ufabc.edu.br/pluginfile.php/291474/question/questiontext/313420/3/2233931/planetas.py\n",
    "\n",
    "a - Rode o programa (escolha uma data inicial) e apresente o output e  explique o que eles significam.\n",
    "\n",
    "b - Faça um fluxograma do programa.\n",
    "\n",
    "c - O que faz, e quais sao as funcoes da biblioteca ephem.\n",
    "\n",
    "d - Foi gerado um novo codigo para fazer um plot. Altere a data inicial e rode. Explique o resultado.\n",
    "\n",
    "https://moodle.ufabc.edu.br/pluginfile.php/291474/question/questiontext/313420/3/2233931/planetas2.py\n",
    "\n",
    "Texto de resposta Questão 3"
   ]
  },
  {
   "cell_type": "code",
   "execution_count": 1,
   "metadata": {},
   "outputs": [
    {
     "name": "stdout",
     "output_type": "stream",
     "text": [
      "Data: 2023/6/5 00:00:00\n",
      "Mercúrio: 3:16:06.68 14:59:49.8\n",
      "Vênus: 8:08:44.20 22:44:31.8\n",
      "Marte: 8:46:44.43 19:25:42.1\n",
      "Júpiter: 2:09:28.04 11:54:30.8\n",
      "Saturno: 22:37:29.37 -10:20:13.2\n",
      "\n"
     ]
    }
   ],
   "source": [
    "import ephem\n",
    "\n",
    "# Define as datas iniciais e finais\n",
    "start_date = ephem.Date('2023/06/05')\n",
    "end_date = ephem.Date('2023/06/06')\n",
    "\n",
    "# Cria os objetos para os cinco primeiros planetas\n",
    "mercury = ephem.Mercury()\n",
    "venus = ephem.Venus()\n",
    "mars = ephem.Mars()\n",
    "jupiter = ephem.Jupiter()\n",
    "saturn = ephem.Saturn()\n",
    "\n",
    "# Loop para calcular as posições dos planetas em intervalos de um dia\n",
    "current_date = start_date\n",
    "while current_date < end_date:\n",
    "    # Calcula as posições dos planetas para a data atual\n",
    "    mercury.compute(current_date)\n",
    "    venus.compute(current_date)\n",
    "    mars.compute(current_date)\n",
    "    jupiter.compute(current_date)\n",
    "    saturn.compute(current_date)\n",
    "\n",
    "    # Imprime as posições dos planetas para a data atual\n",
    "    print(\"Data:\", current_date)\n",
    "    print(\"Mercúrio:\", mercury.ra, mercury.dec)\n",
    "    print(\"Vênus:\", venus.ra, venus.dec)\n",
    "    print(\"Marte:\", mars.ra, mars.dec)\n",
    "    print(\"Júpiter:\", jupiter.ra, jupiter.dec)\n",
    "    print(\"Saturno:\", saturn.ra, saturn.dec)\n",
    "    print(\"\")\n",
    "\n",
    "    # Incrementa a data em um dia\n",
    "    current_date += 1\n",
    "\n"
   ]
  },
  {
   "cell_type": "code",
   "execution_count": 35,
   "metadata": {},
   "outputs": [
    {
     "name": "stdout",
     "output_type": "stream",
     "text": [
      "Defaulting to user installation because normal site-packages is not writeable\n",
      "Requirement already satisfied: ephem in c:\\users\\sousa.lima\\appdata\\roaming\\python\\python312\\site-packages (4.2)\n",
      "Note: you may need to restart the kernel to use updated packages.\n"
     ]
    }
   ],
   "source": [
    "%pip install ephem"
   ]
  }
 ],
 "metadata": {
  "kernelspec": {
   "display_name": "base",
   "language": "python",
   "name": "python3"
  },
  "language_info": {
   "codemirror_mode": {
    "name": "ipython",
    "version": 3
   },
   "file_extension": ".py",
   "mimetype": "text/x-python",
   "name": "python",
   "nbconvert_exporter": "python",
   "pygments_lexer": "ipython3",
   "version": "3.12.7"
  }
 },
 "nbformat": 4,
 "nbformat_minor": 2
}
